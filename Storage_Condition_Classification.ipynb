{
 "cells": [
  {
   "cell_type": "code",
   "execution_count": 38,
   "metadata": {},
   "outputs": [],
   "source": [
    "# Cell 1: Imports\n",
    "import pandas as pd\n",
    "import numpy as np\n",
    "from sklearn.preprocessing import StandardScaler, LabelEncoder\n",
    "from sklearn.model_selection import StratifiedKFold\n",
    "from sklearn.metrics import classification_report, confusion_matrix\n",
    "import matplotlib.pyplot as plt\n",
    "import seaborn as sns\n",
    "\n",
    "# Import our custom modules\n",
    "from hyperparameter_tuning import get_param_grids, tune_hyperparameters\n",
    "from model_visualization import plot_model_comparison\n",
    "\n"
   ]
  },
  {
   "cell_type": "code",
   "execution_count": 39,
   "metadata": {},
   "outputs": [
    {
     "name": "stdout",
     "output_type": "stream",
     "text": [
      "Loading and preparing data...\n",
      "\n",
      "Product Type Encoding:\n",
      "Bread: 0\n",
      "Cookies: 1\n",
      "\n",
      "Storage Condition Encoding:\n",
      "Humid: 0\n",
      "Open: 1\n",
      "Wrapped: 2\n"
     ]
    }
   ],
   "source": [
    "# Cell 2: Load and Prepare Data\n",
    "print(\"Loading and preparing data...\")\n",
    "# Load data\n",
    "data = pd.read_csv('augmented_bakery_data.csv')\n",
    "\n",
    "# Encode Product Type\n",
    "le_product = LabelEncoder()\n",
    "data['Product_Type_encoded'] = le_product.fit_transform(data['Product_Type'])\n",
    "\n",
    "# Encode Storage Conditions\n",
    "le_storage = LabelEncoder()\n",
    "data['Storage_Condition_encoded'] = le_storage.fit_transform(data['Storage_Condition'])\n",
    "\n",
    "print(\"\\nProduct Type Encoding:\")\n",
    "for i, label in enumerate(le_product.classes_):\n",
    "    print(f\"{label}: {i}\")\n",
    "\n",
    "print(\"\\nStorage Condition Encoding:\")\n",
    "for i, label in enumerate(le_storage.classes_):\n",
    "    print(f\"{label}: {i}\")\n",
    "\n"
   ]
  },
  {
   "cell_type": "code",
   "execution_count": 40,
   "metadata": {},
   "outputs": [],
   "source": [
    "# Cell 3: Model Evaluation Function\n",
    "def evaluate_model(X, y, model):\n",
    "    \"\"\"Evaluate model using 10-fold cross-validation\"\"\"\n",
    "    kfold = StratifiedKFold(n_splits=10, shuffle=True, random_state=42)\n",
    "    \n",
    "    fold_accuracies = []\n",
    "    all_y_true = []\n",
    "    all_y_pred = []\n",
    "    \n",
    "    for train_idx, val_idx in kfold.split(X, y):\n",
    "        # Split data\n",
    "        X_train, X_val = X[train_idx], X[val_idx]\n",
    "        y_train, y_val = y[train_idx], y[val_idx]\n",
    "        \n",
    "        # Train and predict\n",
    "        model.fit(X_train, y_train)\n",
    "        y_pred = model.predict(X_val)\n",
    "        \n",
    "        # Store results\n",
    "        fold_accuracies.append(np.mean(y_pred == y_val))\n",
    "        all_y_true.extend(y_val)\n",
    "        all_y_pred.extend(y_pred)\n",
    "    \n",
    "    return {\n",
    "        'fold_accuracies': fold_accuracies,\n",
    "        'mean_accuracy': np.mean(fold_accuracies),\n",
    "        'std_accuracy': np.std(fold_accuracies),\n",
    "        'classification_report': classification_report(all_y_true, all_y_pred),\n",
    "        'confusion_matrix': confusion_matrix(all_y_true, all_y_pred)\n",
    "    }\n",
    "\n"
   ]
  },
  {
   "cell_type": "code",
   "execution_count": 41,
   "metadata": {},
   "outputs": [
    {
     "name": "stdout",
     "output_type": "stream",
     "text": [
      "\n",
      "Preparing features without product type...\n",
      "\n",
      "Training SVM without product type...\n",
      "Fitting 10 folds for each of 32 candidates, totalling 320 fits\n",
      "Successfully trained SVM\n",
      "\n",
      "Training Random Forest without product type...\n",
      "Fitting 10 folds for each of 108 candidates, totalling 1080 fits\n",
      "Successfully trained Random Forest\n",
      "\n",
      "Training KNN without product type...\n",
      "Fitting 10 folds for each of 16 candidates, totalling 160 fits\n",
      "Successfully trained KNN\n",
      "\n",
      "Training Neural Network without product type...\n",
      "Fitting 10 folds for each of 48 candidates, totalling 480 fits\n",
      "Successfully trained Neural Network\n",
      "\n",
      "Training Logistic Regression without product type...\n",
      "Fitting 10 folds for each of 36 candidates, totalling 360 fits\n",
      "Successfully trained Logistic Regression\n"
     ]
    }
   ],
   "source": [
    "# Cell 4: Run Classification Without Product Type\n",
    "print(\"\\nPreparing features without product type...\")\n",
    "# Get features (gains and phases only)\n",
    "feature_cols = [col for col in data.columns if col.startswith(('gain_', 'phase_'))]\n",
    "X_without_product = data[feature_cols]\n",
    "y_storage = data['Storage_Condition_encoded']\n",
    "\n",
    "# Scale features\n",
    "scaler = StandardScaler()\n",
    "X_without_product_scaled = scaler.fit_transform(X_without_product)\n",
    "\n",
    "# Get parameter grids\n",
    "param_grids = get_param_grids()\n",
    "\n",
    "# Dictionary to store results\n",
    "results_without_product = {}\n",
    "\n",
    "# Run classification for each model\n",
    "for model_name, param_grid in param_grids.items():\n",
    "    print(f\"\\nTraining {model_name} without product type...\")\n",
    "    try:\n",
    "        # Tune hyperparameters\n",
    "        tuning_results = tune_hyperparameters(X_without_product_scaled, y_storage, \n",
    "                                            model_name, param_grid)\n",
    "        # Evaluate model with best parameters\n",
    "        eval_results = evaluate_model(X_without_product_scaled, y_storage, \n",
    "                                    tuning_results['best_model'])\n",
    "        \n",
    "        # Combine results\n",
    "        results_without_product[model_name] = {\n",
    "            'best_params': tuning_results['best_params'],\n",
    "            'best_score': tuning_results['best_score'],\n",
    "            **eval_results\n",
    "        }\n",
    "        print(f\"Successfully trained {model_name}\")\n",
    "    except Exception as e:\n",
    "        print(f\"Error training {model_name}: {str(e)}\")\n",
    "\n"
   ]
  },
  {
   "cell_type": "code",
   "execution_count": 42,
   "metadata": {},
   "outputs": [
    {
     "name": "stdout",
     "output_type": "stream",
     "text": [
      "\n",
      "Preparing features with product type...\n",
      "\n",
      "Training SVM with product type...\n",
      "Fitting 10 folds for each of 32 candidates, totalling 320 fits\n",
      "Successfully trained SVM\n",
      "\n",
      "Training Random Forest with product type...\n",
      "Fitting 10 folds for each of 108 candidates, totalling 1080 fits\n",
      "Successfully trained Random Forest\n",
      "\n",
      "Training KNN with product type...\n",
      "Fitting 10 folds for each of 16 candidates, totalling 160 fits\n",
      "Successfully trained KNN\n",
      "\n",
      "Training Neural Network with product type...\n",
      "Fitting 10 folds for each of 48 candidates, totalling 480 fits\n",
      "Successfully trained Neural Network\n",
      "\n",
      "Training Logistic Regression with product type...\n",
      "Fitting 10 folds for each of 36 candidates, totalling 360 fits\n",
      "Successfully trained Logistic Regression\n"
     ]
    }
   ],
   "source": [
    "# Cell 5: Run Classification With Product Type\n",
    "print(\"\\nPreparing features with product type...\")\n",
    "# Add product type feature\n",
    "X_with_product = np.column_stack([\n",
    "    X_without_product_scaled,\n",
    "    data['Product_Type_encoded'].values.reshape(-1, 1)\n",
    "])\n",
    "\n",
    "# Dictionary to store results\n",
    "results_with_product = {}\n",
    "\n",
    "# Run classification for each model\n",
    "for model_name, param_grid in param_grids.items():\n",
    "    print(f\"\\nTraining {model_name} with product type...\")\n",
    "    try:\n",
    "        # Tune hyperparameters\n",
    "        tuning_results = tune_hyperparameters(X_with_product, y_storage, \n",
    "                                            model_name, param_grid)\n",
    "        # Evaluate model with best parameters\n",
    "        eval_results = evaluate_model(X_with_product, y_storage, \n",
    "                                    tuning_results['best_model'])\n",
    "        \n",
    "        # Combine results\n",
    "        results_with_product[model_name] = {\n",
    "            'best_params': tuning_results['best_params'],\n",
    "            'best_score': tuning_results['best_score'],\n",
    "            **eval_results\n",
    "        }\n",
    "        print(f\"Successfully trained {model_name}\")\n",
    "    except Exception as e:\n",
    "        print(f\"Error training {model_name}: {str(e)}\")\n",
    "\n"
   ]
  },
  {
   "cell_type": "code",
   "execution_count": 43,
   "metadata": {},
   "outputs": [
    {
     "name": "stdout",
     "output_type": "stream",
     "text": [
      "\n",
      "Preparing visualization...\n"
     ]
    },
    {
     "data": {
      "image/png": "[encoded data removed]",
      "text/plain": [
       "<Figure size 1200x600 with 1 Axes>"
      ]
     },
     "metadata": {},
     "output_type": "display_data"
    },
    {
     "name": "stdout",
     "output_type": "stream",
     "text": [
      "\n",
      "Classification Results Summary:\n",
      "\n",
      "Neural Network:\n",
      "Without Product Type: 0.9278 (±0.0558)\n",
      "With Product Type: 0.9167 (±0.0569)\n",
      "\n",
      "KNN:\n",
      "Without Product Type: 0.9056 (±0.0660)\n",
      "With Product Type: 0.9056 (±0.0660)\n",
      "\n",
      "Random Forest:\n",
      "Without Product Type: 0.9667 (±0.0444)\n",
      "With Product Type: 0.9667 (±0.0509)\n",
      "\n",
      "Logistic Regression:\n",
      "Without Product Type: 0.8833 (±0.0803)\n",
      "With Product Type: 0.9000 (±0.0778)\n",
      "\n",
      "SVM:\n",
      "Without Product Type: 0.9500 (±0.0389)\n",
      "With Product Type: 0.9167 (±0.0669)\n"
     ]
    }
   ],
   "source": [
    "# Cell 6: Visualize Results\n",
    "print(\"\\nPreparing visualization...\")\n",
    "# Check which models were successful in both scenarios\n",
    "models_without_product = set(results_without_product.keys())\n",
    "models_with_product = set(results_with_product.keys())\n",
    "common_models = list(models_without_product.intersection(models_with_product))\n",
    "\n",
    "if common_models:\n",
    "    # Create filtered results dictionary\n",
    "    storage_results = {\n",
    "        'Without Product Type': {model: results_without_product[model] \n",
    "                               for model in common_models},\n",
    "        'With Product Type': {model: results_with_product[model] \n",
    "                            for model in common_models}\n",
    "    }\n",
    "\n",
    "    # Create visualization\n",
    "    plot_model_comparison(\n",
    "        storage_results,\n",
    "        classification_type='storage',\n",
    "        save_path='storage_condition_comparison.png'\n",
    "    )\n",
    "    \n",
    "    # Print summary of results\n",
    "    print(\"\\nClassification Results Summary:\")\n",
    "    for model in common_models:\n",
    "        print(f\"\\n{model}:\")\n",
    "        print(f\"Without Product Type: {results_without_product[model]['mean_accuracy']:.4f} \"\n",
    "              f\"(±{results_without_product[model]['std_accuracy']:.4f})\")\n",
    "        print(f\"With Product Type: {results_with_product[model]['mean_accuracy']:.4f} \"\n",
    "              f\"(±{results_with_product[model]['std_accuracy']:.4f})\")\n",
    "else:\n",
    "    print(\"No models were successfully trained in both scenarios!\")\n",
    "\n"
   ]
  },
  {
   "cell_type": "code",
   "execution_count": 44,
   "metadata": {},
   "outputs": [
    {
     "name": "stdout",
     "output_type": "stream",
     "text": [
      "\n",
      "Saving detailed results...\n",
      "\n",
      "Analysis complete!\n"
     ]
    }
   ],
   "source": [
    "# Cell 7: Save Results\n",
    "print(\"\\nSaving detailed results...\")\n",
    "def save_detailed_results(results, filename):\n",
    "    \"\"\"Save detailed results to file\"\"\"\n",
    "    with open(filename, 'w') as f:\n",
    "        for scenario, scenario_results in results.items():\n",
    "            f.write(f\"\\n{scenario}\\n\")\n",
    "            f.write(\"=\"*50 + \"\\n\")\n",
    "            \n",
    "            for model, model_results in scenario_results.items():\n",
    "                f.write(f\"\\n{model}\\n\")\n",
    "                f.write(\"-\"*30 + \"\\n\")\n",
    "                f.write(f\"Best parameters: {model_results['best_params']}\\n\")\n",
    "                f.write(f\"Cross-validation accuracies: {model_results['fold_accuracies']}\\n\")\n",
    "                f.write(f\"Mean accuracy: {model_results['mean_accuracy']:.4f} \"\n",
    "                       f\"(±{model_results['std_accuracy']:.4f})\\n\")\n",
    "                f.write(\"\\nClassification Report:\\n\")\n",
    "                f.write(model_results['classification_report'])\n",
    "                f.write(\"\\n\")\n",
    "\n",
    "if common_models:\n",
    "    save_detailed_results(storage_results, 'storage_condition_classification_results.txt')\n",
    "\n",
    "print(\"\\nAnalysis complete!\")"
   ]
  }
 ],
 "metadata": {
  "kernelspec": {
   "display_name": "Python 3",
   "language": "python",
   "name": "python3"
  },
  "language_info": {
   "codemirror_mode": {
    "name": "ipython",
    "version": 3
   },
   "file_extension": ".py",
   "mimetype": "text/x-python",
   "name": "python",
   "nbconvert_exporter": "python",
   "pygments_lexer": "ipython3",
   "version": "3.8.10"
  }
 },
 "nbformat": 4,
 "nbformat_minor": 2
}
