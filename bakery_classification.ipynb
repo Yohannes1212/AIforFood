{
 "cells": [
  {
   "cell_type": "code",
   "execution_count": null,
   "metadata": {},
   "outputs": [],
   "source": [
    "# Cell 1: Imports and Data Loading\n",
    "import pandas as pd\n",
    "import numpy as np\n",
    "from sklearn.preprocessing import StandardScaler, LabelEncoder\n",
    "from sklearn.model_selection import train_test_split, GridSearchCV, cross_val_score\n",
    "from sklearn.metrics import classification_report, confusion_matrix\n",
    "import matplotlib.pyplot as plt\n",
    "import seaborn as sns\n",
    "\n",
    "# Load data\n",
    "data = pd.read_csv('augmented_bakery_data.csv')\n",
    "\n",
    "# Encode categorical variables\n",
    "le_product = LabelEncoder()\n",
    "le_storage = LabelEncoder()\n",
    "\n",
    "data['Product_Type_encoded'] = le_product.fit_transform(data['Product_Type'])\n",
    "data['Storage_Condition_encoded'] = le_storage.fit_transform(data['Storage_Condition'])\n",
    "\n",
    "# Print encoding mapping\n",
    "print(\"Product Type Encoding:\")\n",
    "for i, label in enumerate(le_product.classes_):\n",
    "    print(f\"{label}: {i}\")\n",
    "\n",
    "print(\"\\nStorage Condition Encoding:\")\n",
    "for i, label in enumerate(le_storage.classes_):\n",
    "    print(f\"{label}: {i}\")"
   ]
  },
  {
   "cell_type": "markdown",
   "metadata": {},
   "source": []
  },
  {
   "cell_type": "code",
   "execution_count": null,
   "metadata": {},
   "outputs": [],
   "source": [
    "# Cell 2: Data Preparation Function\n",
    "def prepare_data(data, target_type='product', include_other_label=False):\n",
    "    \"\"\"\n",
    "    Prepare data for classification\n",
    "    \n",
    "    Parameters:\n",
    "    - data: DataFrame containing the data\n",
    "    - target_type: 'product' or 'storage'\n",
    "    - include_other_label: whether to include the other label as a feature\n",
    "    \n",
    "    Returns:\n",
    "    - X: features\n",
    "    - y: target variable\n",
    "    \"\"\"\n",
    "    # Get base features (gains and phases)\n",
    "    feature_cols = [col for col in data.columns if col.startswith(('gain_', 'phase_'))]\n",
    "    X = data[feature_cols].copy()\n",
    "    \n",
    "    # Add additional feature if requested\n",
    "    if include_other_label:\n",
    "        if target_type == 'product':\n",
    "            X['storage_condition'] = data['Storage_Condition_encoded']\n",
    "        else:\n",
    "            X['product_type'] = data['Product_Type_encoded']\n",
    "    \n",
    "    # Select target\n",
    "    y = data['Product_Type_encoded'] if target_type == 'product' else data['Storage_Condition_encoded']\n",
    "    \n",
    "    return X, y"
   ]
  },
  {
   "cell_type": "code",
   "execution_count": null,
   "metadata": {},
   "outputs": [],
   "source": []
  },
  {
   "cell_type": "code",
   "execution_count": null,
   "metadata": {},
   "outputs": [],
   "source": []
  },
  {
   "cell_type": "code",
   "execution_count": null,
   "metadata": {},
   "outputs": [],
   "source": []
  },
  {
   "cell_type": "code",
   "execution_count": null,
   "metadata": {},
   "outputs": [],
   "source": []
  },
  {
   "cell_type": "code",
   "execution_count": null,
   "metadata": {},
   "outputs": [],
   "source": []
  }
 ],
 "metadata": {
  "kernelspec": {
   "display_name": "Python 3",
   "language": "python",
   "name": "python3"
  },
  "language_info": {
   "name": "python",
   "version": "3.8.10"
  }
 },
 "nbformat": 4,
 "nbformat_minor": 2
}
